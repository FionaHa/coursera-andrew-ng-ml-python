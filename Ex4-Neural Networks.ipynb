{
 "cells": [
  {
   "cell_type": "code",
   "execution_count": 1,
   "metadata": {},
   "outputs": [
    {
     "name": "stderr",
     "output_type": "stream",
     "text": [
      "Using TensorFlow backend.\n"
     ]
    }
   ],
   "source": [
    "import warnings; warnings.filterwarnings('ignore')\n",
    "\n",
    "from time import time\n",
    "\n",
    "import numpy as np\n",
    "import pandas as pd\n",
    "from scipy import optimize as opt\n",
    "from scipy import io as spio\n",
    "\n",
    "from matplotlib import pyplot as plt\n",
    "%matplotlib inline\n",
    "import seaborn as sns; sns.set(style=\"darkgrid\")\n",
    "\n",
    "from sklearn.preprocessing import OneHotEncoder\n",
    "from sklearn.metrics import accuracy_score\n",
    "\n",
    "from keras.utils import np_utils\n",
    "from keras.models import Sequential\n",
    "from keras.layers import Dense"
   ]
  },
  {
   "cell_type": "code",
   "execution_count": 2,
   "metadata": {},
   "outputs": [
    {
     "name": "stdout",
     "output_type": "stream",
     "text": [
      "(25, 401)\n",
      "(10, 26)\n"
     ]
    }
   ],
   "source": [
    "# load data\n",
    "mat=spio.loadmat('machine-learning-ex4/ex4/ex4data1.mat')\n",
    "X,y=mat['X'],mat['y']\n",
    "\n",
    "mat=spio.loadmat('machine-learning-ex4/ex4/ex4weights.mat')\n",
    "theta1,theta2=mat['Theta1'],mat['Theta2']\n",
    "\n",
    "print(theta1.shape)\n",
    "print(theta2.shape)"
   ]
  },
  {
   "cell_type": "code",
   "execution_count": 3,
   "metadata": {},
   "outputs": [
    {
     "data": {
      "image/png": "[encoded data removed]",
      "text/plain": [
       "<matplotlib.figure.Figure at 0x121540da0>"
      ]
     },
     "metadata": {},
     "output_type": "display_data"
    }
   ],
   "source": [
    "# visualize the data (first 10 samples)\n",
    "width,height=20,20\n",
    "fig=plt.figure(figsize=(20,20))\n",
    "for i in range(10): \n",
    "    square=X[i].reshape(width,height).T\n",
    "    ax=fig.add_subplot(1,10,i+1,xticks=[],yticks=[])\n",
    "    ax.imshow(square,cmap='gray')\n",
    "    ax.set_title(str(y[i]))"
   ]
  },
  {
   "cell_type": "code",
   "execution_count": 4,
   "metadata": {
    "collapsed": true
   },
   "outputs": [],
   "source": [
    "# define sigmoid function and sigmoid_prime\n",
    "def sigmoid(x):\n",
    "    return 1/(1+np.exp(-x))\n",
    "\n",
    "def sigmoid_prime(x):\n",
    "    return sigmoid(x)*(1-sigmoid(x))\n",
    "\n",
    "# define function to randomly initialize weights\n",
    "def rand_ini_wgts(input_size,output_size):\n",
    "    epsilon=0.12\n",
    "    return np.random.uniform(-epsilon,epsilon,(output_size,input_size+1))\n",
    "\n",
    "# define regularized cost and gradient functions for neural network with one hidden layer\n",
    "def cost_and_grad(theta1,theta2,X,y,alpha):\n",
    "    # forward prop and cost\n",
    "    ohe=OneHotEncoder(sparse=False) # return array, not sparse to perform vectorized operations\n",
    "    y_ohe=ohe.fit_transform(y)\n",
    "    sample_size=X.shape[0]\n",
    "    ones=np.ones((sample_size,y_ohe.shape[1]))\n",
    "    X_bias=np.insert(X,0,1,axis=1)\n",
    "    z=np.dot(X_bias,theta1.T)\n",
    "    a=sigmoid(z)\n",
    "    a_bias=np.insert(a,0,1,axis=1)\n",
    "    h=sigmoid(np.dot(a_bias,theta2.T))\n",
    "    term1=np.multiply(y_ohe,np.log(h))\n",
    "    term2=np.multiply((ones-y_ohe),np.log(1-h))\n",
    "    cost=-np.sum(np.add(term1,term2))/sample_size\\\n",
    "    +alpha/(2*sample_size)*(np.sum(np.square(theta1[:,1:]))+np.sum(np.square(theta2[:,1:])))\n",
    "    \n",
    "    # backward prop and gradient\n",
    "    delta_3=h-y_ohe\n",
    "    z_bias=np.insert(z,0,1,axis=1)\n",
    "    delta_2=(np.dot(delta_3,theta2)*sigmoid_prime(z_bias))[:,1:]\n",
    "    grad_1=np.dot(delta_2.T,X_bias)/sample_size+alpha/sample_size*(np.insert(theta1[:,1:],0,0,axis=1))\n",
    "    grad_2=np.dot(delta_3.T,a_bias)/sample_size+alpha/sample_size*(np.insert(theta2[:,1:],0,0,axis=1))\n",
    "    grad=np.hstack([grad_1.ravel(),grad_2.ravel()])\n",
    "    \n",
    "    return cost.ravel(),grad\n",
    "\n",
    "# define function to compute gradient numerically (to be coded...)\n",
    "#def numeric_grad(theta1,theta2,X,y,alpha):\n",
    "    #epsilon=1e-4"
   ]
  },
  {
   "cell_type": "code",
   "execution_count": 5,
   "metadata": {
    "scrolled": true
   },
   "outputs": [
    {
     "name": "stdout",
     "output_type": "stream",
     "text": [
      "Cost at parameters loaded from ex4weights: 0.287629\n"
     ]
    }
   ],
   "source": [
    "# test cost function with no regularization\n",
    "alpha=0\n",
    "cost_test,grad_test=cost_and_grad(theta1,theta2,X,y,alpha)\n",
    "\n",
    "print('Cost at parameters loaded from ex4weights: {0:.6f}'.format(np.asscalar(cost_test)))"
   ]
  },
  {
   "cell_type": "code",
   "execution_count": 6,
   "metadata": {
    "scrolled": true
   },
   "outputs": [
    {
     "name": "stdout",
     "output_type": "stream",
     "text": [
      "Cost at parameters loaded from ex4weights: 0.383770\n"
     ]
    }
   ],
   "source": [
    "# test cost function with regularization strength of 1\n",
    "alpha=1\n",
    "cost_test,grad_test=cost_and_grad(theta1,theta2,X,y,alpha)\n",
    "\n",
    "print('Cost at parameters loaded from ex4weights: {0:.6f}'.format(np.asscalar(cost_test)))"
   ]
  },
  {
   "cell_type": "code",
   "execution_count": 7,
   "metadata": {},
   "outputs": [
    {
     "name": "stdout",
     "output_type": "stream",
     "text": [
      "Sigmoid gradient at inputs of [-1 -0.5 0 0.5 1]: [ 0.19661193  0.23500371  0.25        0.23500371  0.19661193]\n"
     ]
    }
   ],
   "source": [
    "# test sigmoid gradient\n",
    "print('Sigmoid gradient at inputs of [-1 -0.5 0 0.5 1]: {}'.format(sigmoid_prime(np.array([-1,-0.5,0,0.5,1]))))"
   ]
  },
  {
   "cell_type": "code",
   "execution_count": 8,
   "metadata": {},
   "outputs": [],
   "source": [
    "# one-hot-encode the labels\n",
    "y[y==10]=0\n",
    "y_ohe=np_utils.to_categorical(y,10)"
   ]
  },
  {
   "cell_type": "code",
   "execution_count": 9,
   "metadata": {},
   "outputs": [
    {
     "name": "stdout",
     "output_type": "stream",
     "text": [
      "_________________________________________________________________\n",
      "Layer (type)                 Output Shape              Param #   \n",
      "=================================================================\n",
      "dense_1 (Dense)              (None, 25)                10025     \n",
      "_________________________________________________________________\n",
      "dense_2 (Dense)              (None, 10)                260       \n",
      "=================================================================\n",
      "Total params: 10,285\n",
      "Trainable params: 10,285\n",
      "Non-trainable params: 0\n",
      "_________________________________________________________________\n"
     ]
    }
   ],
   "source": [
    "model=Sequential()\n",
    "model.add(Dense(units=25,activation='relu',input_dim=400))\n",
    "model.add(Dense(units=10, activation='softmax'))\n",
    "\n",
    "model.summary()"
   ]
  },
  {
   "cell_type": "code",
   "execution_count": 10,
   "metadata": {
    "collapsed": true
   },
   "outputs": [],
   "source": [
    "model.compile(loss='categorical_crossentropy',optimizer='sgd',metrics=['accuracy'])"
   ]
  },
  {
   "cell_type": "code",
   "execution_count": 11,
   "metadata": {},
   "outputs": [],
   "source": [
    "model.fit(X,y_ohe,epochs=50,batch_size=50,verbose=0);"
   ]
  },
  {
   "cell_type": "code",
   "execution_count": 12,
   "metadata": {
    "scrolled": true
   },
   "outputs": [
    {
     "name": "stdout",
     "output_type": "stream",
     "text": [
      "Accuracy: 92.36%\n"
     ]
    }
   ],
   "source": [
    "score=model.evaluate(X,y_ohe,verbose=0)[1]*100 # returns accuracy score\n",
    "\n",
    "print('Accuracy: {}%'.format(score))"
   ]
  }
 ],
 "metadata": {
  "kernelspec": {
   "display_name": "Python 3",
   "language": "python",
   "name": "python3"
  },
  "language_info": {
   "codemirror_mode": {
    "name": "ipython",
    "version": 3
   },
   "file_extension": ".py",
   "mimetype": "text/x-python",
   "name": "python",
   "nbconvert_exporter": "python",
   "pygments_lexer": "ipython3",
   "version": "3.6.2"
  }
 },
 "nbformat": 4,
 "nbformat_minor": 2
}

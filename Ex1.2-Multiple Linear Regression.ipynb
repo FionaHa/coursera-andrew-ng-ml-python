{
 "cells": [
  {
   "cell_type": "code",
   "execution_count": 1,
   "metadata": {
    "collapsed": true
   },
   "outputs": [],
   "source": [
    "import warnings; warnings.filterwarnings('ignore')\n",
    "\n",
    "import numpy as np\n",
    "from numpy.linalg import inv\n",
    "import pandas as pd\n",
    "\n",
    "from matplotlib import pyplot as plt\n",
    "%matplotlib inline\n",
    "import seaborn as sns; sns.set(style=\"darkgrid\")\n",
    "\n",
    "from sklearn.preprocessing import StandardScaler"
   ]
  },
  {
   "cell_type": "code",
   "execution_count": 2,
   "metadata": {},
   "outputs": [
    {
     "data": {
      "text/html": [
       "<div>\n",
       "<style>\n",
       "    .dataframe thead tr:only-child th {\n",
       "        text-align: right;\n",
       "    }\n",
       "\n",
       "    .dataframe thead th {\n",
       "        text-align: left;\n",
       "    }\n",
       "\n",
       "    .dataframe tbody tr th {\n",
       "        vertical-align: top;\n",
       "    }\n",
       "</style>\n",
       "<table border=\"1\" class=\"dataframe\">\n",
       "  <thead>\n",
       "    <tr style=\"text-align: right;\">\n",
       "      <th></th>\n",
       "      <th>size_sqrt</th>\n",
       "      <th>bedroom_num</th>\n",
       "      <th>price</th>\n",
       "    </tr>\n",
       "  </thead>\n",
       "  <tbody>\n",
       "    <tr>\n",
       "      <th>0</th>\n",
       "      <td>2104</td>\n",
       "      <td>3</td>\n",
       "      <td>399900</td>\n",
       "    </tr>\n",
       "    <tr>\n",
       "      <th>1</th>\n",
       "      <td>1600</td>\n",
       "      <td>3</td>\n",
       "      <td>329900</td>\n",
       "    </tr>\n",
       "    <tr>\n",
       "      <th>2</th>\n",
       "      <td>2400</td>\n",
       "      <td>3</td>\n",
       "      <td>369000</td>\n",
       "    </tr>\n",
       "    <tr>\n",
       "      <th>3</th>\n",
       "      <td>1416</td>\n",
       "      <td>2</td>\n",
       "      <td>232000</td>\n",
       "    </tr>\n",
       "    <tr>\n",
       "      <th>4</th>\n",
       "      <td>3000</td>\n",
       "      <td>4</td>\n",
       "      <td>539900</td>\n",
       "    </tr>\n",
       "  </tbody>\n",
       "</table>\n",
       "</div>"
      ],
      "text/plain": [
       "   size_sqrt  bedroom_num   price\n",
       "0       2104            3  399900\n",
       "1       1600            3  329900\n",
       "2       2400            3  369000\n",
       "3       1416            2  232000\n",
       "4       3000            4  539900"
      ]
     },
     "metadata": {},
     "output_type": "display_data"
    },
    {
     "data": {
      "text/plain": [
       "(47, 3)"
      ]
     },
     "execution_count": 2,
     "metadata": {},
     "output_type": "execute_result"
    }
   ],
   "source": [
    "# load data\n",
    "data=pd.read_csv('machine-learning-ex1/ex1/ex1data2.txt',header=None,names=['size_sqrt','bedroom_num','price'])\n",
    "\n",
    "display(data.head())\n",
    "data.shape"
   ]
  },
  {
   "cell_type": "code",
   "execution_count": 3,
   "metadata": {},
   "outputs": [
    {
     "name": "stdout",
     "output_type": "stream",
     "text": [
      "[[399900]\n",
      " [329900]\n",
      " [369000]\n",
      " [232000]\n",
      " [539900]]\n",
      "[[2104    3]\n",
      " [1600    3]\n",
      " [2400    3]\n",
      " [1416    2]\n",
      " [3000    4]]\n"
     ]
    }
   ],
   "source": [
    "# split dataframe into X vs. y and convert them into numpy arrays for vectorized operations\n",
    "y=data.filter(['price'],axis=1).values\n",
    "X=data.drop(['price'],axis=1).values\n",
    "\n",
    "print(y[:5,])\n",
    "print(X[:5,])"
   ]
  },
  {
   "cell_type": "code",
   "execution_count": 4,
   "metadata": {},
   "outputs": [
    {
     "name": "stdout",
     "output_type": "stream",
     "text": [
      "Sample scaled data:\n",
      "[[ 0.13141542 -0.22609337]\n",
      " [-0.5096407  -0.22609337]\n",
      " [ 0.5079087  -0.22609337]\n",
      " [-0.74367706 -1.5543919 ]\n",
      " [ 1.27107075  1.10220517]]\n",
      "\n",
      "Mean vector: [ 2000.68085106     3.17021277]\n",
      "Std vector: [  7.86202619e+02   7.52842809e-01]\n"
     ]
    }
   ],
   "source": [
    "# approach 1: feature normalization using sklearn API\n",
    "ss=StandardScaler()\n",
    "X_scaled=ss.fit_transform(X)\n",
    "\n",
    "print('Sample scaled data:')\n",
    "print(X_scaled[:5])\n",
    "print('\\nMean vector: {}'.format(ss.mean_))\n",
    "print('Std vector: {}'.format(np.sqrt(ss.var_)))"
   ]
  },
  {
   "cell_type": "code",
   "execution_count": 5,
   "metadata": {},
   "outputs": [
    {
     "name": "stdout",
     "output_type": "stream",
     "text": [
      "Sample scaled data:\n",
      "[[ 0.13141542 -0.22609337]\n",
      " [-0.5096407  -0.22609337]\n",
      " [ 0.5079087  -0.22609337]\n",
      " [-0.74367706 -1.5543919 ]\n",
      " [ 1.27107075  1.10220517]]\n",
      "\n",
      "Mean vector: [ 2000.68085106     3.17021277]\n",
      "Std vector: [  7.86202619e+02   7.52842809e-01]\n"
     ]
    }
   ],
   "source": [
    "# approach 2: ground-up feature normalization\n",
    "means=np.mean(X,axis=0)\n",
    "stds=np.std(X,axis=0)\n",
    "for col in range(X.shape[1]):\n",
    "    X_scaled[:,col]=(X[:,col]-means[col])/stds[col]\n",
    "\n",
    "print('Sample scaled data:')\n",
    "print(X_scaled[:5])\n",
    "print('\\nMean vector: {}'.format(means))\n",
    "print('Std vector: {}'.format(stds))"
   ]
  },
  {
   "cell_type": "code",
   "execution_count": 6,
   "metadata": {
    "collapsed": true
   },
   "outputs": [],
   "source": [
    "# construct cost function, gradient and gradient descent\n",
    "def cost_ftn(theta,X,y):\n",
    "    sample_size=X.shape[0]\n",
    "    delta=np.dot(X,theta)-y\n",
    "    cost=np.dot(delta.T,delta)/(2*sample_size)\n",
    "    return cost.ravel()\n",
    "\n",
    "def gradient(theta,X,y):\n",
    "    sample_size=X.shape[0]\n",
    "    delta=np.dot(X,theta)-y\n",
    "    gradient=np.dot(X.T,delta)/sample_size\n",
    "    return gradient\n",
    "\n",
    "def gradient_descent(theta,X,y,learning_rate,num_iter):\n",
    "    cost=[]\n",
    "    for i in range(num_iter):\n",
    "        theta=theta-learning_rate*gradient(theta,X,y)\n",
    "        cost.append(cost_ftn(theta,X,y))\n",
    "    return theta,cost"
   ]
  },
  {
   "cell_type": "code",
   "execution_count": 7,
   "metadata": {},
   "outputs": [
    {
     "name": "stdout",
     "output_type": "stream",
     "text": [
      "Theta found by gradient descent:\n",
      "[[ 340410.919 ]\n",
      " [ 109162.6885]\n",
      " [  -6293.2474]]\n"
     ]
    }
   ],
   "source": [
    "# derive theta with gradient descent\n",
    "bias=np.ones((X_scaled.shape[0],1))\n",
    "X_bias=np.concatenate((bias,X_scaled),axis=1)\n",
    "theta_initial=np.zeros((X_bias.shape[1],1)) \n",
    "num_iter=400\n",
    "learning_rate=0.03\n",
    "theta,cost_list=gradient_descent(theta_initial,X_bias,y,learning_rate,num_iter)\n",
    "\n",
    "print(\"Theta found by gradient descent:\")\n",
    "print(np.round(theta,4))"
   ]
  },
  {
   "cell_type": "code",
   "execution_count": 8,
   "metadata": {},
   "outputs": [
    {
     "name": "stdout",
     "output_type": "stream",
     "text": [
      "Predicted price of a 1650 sq-ft, 3 br house (using gradient descent): $293,142\n"
     ]
    }
   ],
   "source": [
    "# prediction with theta found by gradient descent\n",
    "x_scaled=ss.transform(np.array([1650,3]).reshape(1,2)) # normalize test data with means/stds found in training\n",
    "x_scaled=np.insert(x_scaled,0,1,axis=1)\n",
    "predicted=np.dot(x_scaled,theta)\n",
    "\n",
    "print('Predicted price of a 1650 sq-ft, 3 br house (using gradient descent): ${:,}'\n",
    "      .format(round(np.asscalar(predicted))))"
   ]
  },
  {
   "cell_type": "code",
   "execution_count": 9,
   "metadata": {},
   "outputs": [
    {
     "data": {
      "image/png": "[encoded data removed]",
      "text/plain": [
       "<matplotlib.figure.Figure at 0x112e8a2b0>"
      ]
     },
     "metadata": {},
     "output_type": "display_data"
    }
   ],
   "source": [
    "# plot learning curve to check gradient descent at different learning rates\n",
    "x_range=np.linspace(1,len(cost_list),len(cost_list))\n",
    "\n",
    "plt.figure(figsize=(8,8))\n",
    "plt.xlabel('Number of iterations')\n",
    "plt.ylabel('Cost')\n",
    "plt.title('Learning Curve',weight='bold')\n",
    "plt.plot(x_range,cost_list);"
   ]
  },
  {
   "cell_type": "code",
   "execution_count": 10,
   "metadata": {},
   "outputs": [
    {
     "name": "stdout",
     "output_type": "stream",
     "text": [
      "Theta found by normal equation:\n",
      "[[ 89597.9095428 ]\n",
      " [   139.21067402]\n",
      " [ -8738.01911233]]\n"
     ]
    }
   ],
   "source": [
    "# derive theta analytically\n",
    "X_bias=np.insert(X,0,1,axis=1) # X not scaled for this approach\n",
    "theta_linalg=np.dot(np.dot(inv(np.dot(X_bias.T,X_bias)),X_bias.T),y) \n",
    "\n",
    "print(\"Theta found by normal equation:\")\n",
    "print(theta_linalg)"
   ]
  },
  {
   "cell_type": "code",
   "execution_count": 11,
   "metadata": {},
   "outputs": [
    {
     "name": "stdout",
     "output_type": "stream",
     "text": [
      "Predicted price of a 1650 sq-ft, 3 br house (using normal equation): $293,081\n"
     ]
    }
   ],
   "source": [
    "# prediction with theta found analytically\n",
    "x=[1,1650,3]\n",
    "predicted=np.dot(x,theta_linalg)\n",
    "\n",
    "print('Predicted price of a 1650 sq-ft, 3 br house (using normal equation): ${:,}'\n",
    "      .format(round(np.asscalar(predicted))))"
   ]
  }
 ],
 "metadata": {
  "kernelspec": {
   "display_name": "Python 3",
   "language": "python",
   "name": "python3"
  },
  "language_info": {
   "codemirror_mode": {
    "name": "ipython",
    "version": 3
   },
   "file_extension": ".py",
   "mimetype": "text/x-python",
   "name": "python",
   "nbconvert_exporter": "python",
   "pygments_lexer": "ipython3",
   "version": "3.6.2"
  }
 },
 "nbformat": 4,
 "nbformat_minor": 2
}
